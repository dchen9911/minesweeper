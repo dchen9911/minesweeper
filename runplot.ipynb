{
 "cells": [
  {
   "cell_type": "code",
   "execution_count": null,
   "metadata": {},
   "outputs": [],
   "source": [
    "import matplotlib.pyplot as plt\n",
    "import ipympl\n",
    "from board import board\n",
    "from boardPlot import boardPlot\n",
    "\n",
    "%matplotlib widget"
   ]
  },
  {
   "cell_type": "code",
   "execution_count": null,
   "metadata": {},
   "outputs": [],
   "source": [
    "width = 15\n",
    "height = 20\n",
    "n_mines = 50\n",
    "new_board = board(width, height, n_mines)   \n",
    "\n",
    "fig = plt.figure(figsize = (width/3, height/3))\n",
    "fig.canvas.toolbar_visible = False\n",
    "fig.canvas.header_visible = False\n",
    "# fig.canvas.set_window_title(' ')\n",
    "fig.canvas.layout.width='{}px'.format(width*32)\n",
    "fig.canvas.layout.height='{}px'.format(height*37)\n",
    "ax = plt.gca()\n",
    "obj = boardPlot(width, height, new_board, fig, ax)"
   ]
  },
  {
   "cell_type": "code",
   "execution_count": null,
   "metadata": {},
   "outputs": [],
   "source": []
  }
 ],
 "metadata": {
  "kernelspec": {
   "display_name": "Python 3",
   "language": "python",
   "name": "python3"
  },
  "language_info": {
   "codemirror_mode": {
    "name": "ipython",
    "version": 3
   },
   "file_extension": ".py",
   "mimetype": "text/x-python",
   "name": "python",
   "nbconvert_exporter": "python",
   "pygments_lexer": "ipython3",
   "version": "3.8.1"
  }
 },
 "nbformat": 4,
 "nbformat_minor": 4
}
