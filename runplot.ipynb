{
 "cells": [
  {
   "cell_type": "code",
   "execution_count": 1,
   "metadata": {},
   "outputs": [],
   "source": [
    "import matplotlib.pyplot as plt\n",
    "from ipywidgets import interact, interactive, fixed, interact_manual, Button, Layout, GridspecLayout\n",
    "import ipywidgets as widgets\n",
    "import ipympl\n",
    "from board import board\n",
    "from boardPlot import boardPlot\n",
    "\n",
    "%matplotlib widget"
   ]
  },
  {
   "cell_type": "code",
   "execution_count": 2,
   "metadata": {},
   "outputs": [
    {
     "data": {
      "application/vnd.jupyter.widget-view+json": {
       "model_id": "d5438c8ae7084ab483e3c14d6358ee82",
       "version_major": 2,
       "version_minor": 0
      },
      "text/plain": [
       "Canvas(toolbar=Toolbar(toolitems=[('Home', 'Reset original view', 'home', 'home'), ('Back', 'Back to previous …"
      ]
     },
     "metadata": {},
     "output_type": "display_data"
    },
    {
     "name": "stdout",
     "output_type": "stream",
     "text": [
      "Mined out\n",
      "Mined out\n",
      "Mined out\n",
      "Mined out\n"
     ]
    }
   ],
   "source": [
    "width = 10\n",
    "height = 10\n",
    "n_mines = 10\n",
    "new_board = board(width, height, n_mines)   \n",
    "\n",
    "fig = plt.figure(figsize = (width/3, height/3))\n",
    "fig.canvas.toolbar_visible = False\n",
    "# fig.canvas.header_visible = False\n",
    "# fig.canvas.set_window_title(' ')\n",
    "fig.canvas.layout.width='{}px'.format(width*30)\n",
    "fig.canvas.layout.height='{}px'.format(height*35)\n",
    "ax = plt.gca()\n",
    "obj = boardPlot(width, height, new_board, fig, ax)\n"
   ]
  },
  {
   "cell_type": "code",
   "execution_count": null,
   "metadata": {},
   "outputs": [],
   "source": []
  }
 ],
 "metadata": {
  "kernelspec": {
   "display_name": "Python 3",
   "language": "python",
   "name": "python3"
  },
  "language_info": {
   "codemirror_mode": {
    "name": "ipython",
    "version": 3
   },
   "file_extension": ".py",
   "mimetype": "text/x-python",
   "name": "python",
   "nbconvert_exporter": "python",
   "pygments_lexer": "ipython3",
   "version": "3.8.2"
  }
 },
 "nbformat": 4,
 "nbformat_minor": 4
}
