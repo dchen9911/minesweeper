{
 "cells": [
  {
   "cell_type": "code",
   "execution_count": null,
   "metadata": {},
   "outputs": [],
   "source": [
    "import matplotlib.pyplot as plt\n",
    "from ipywidgets import interact, interactive, fixed, interact_manual, Button, Layout, GridspecLayout\n",
    "import ipywidgets as widgets\n",
    "import ipympl\n",
    "from board import board\n",
    "from boardPlot import boardPlot\n",
    "\n",
    "%matplotlib widget"
   ]
  },
  {
   "cell_type": "code",
   "execution_count": null,
   "metadata": {},
   "outputs": [],
   "source": [
    "width = 15\n",
    "height = 15\n",
    "n_mines = 30\n",
    "new_board = board(width, height, n_mines)   \n",
    "\n",
    "fig = plt.figure(figsize = (width/3, height/3))\n",
    "fig.canvas.toolbar_visible = False\n",
    "# fig.canvas.header_visible = False\n",
    "# fig.canvas.set_window_title(' ')\n",
    "fig.canvas.layout.width='{}px'.format(width*30)\n",
    "fig.canvas.layout.height='{}px'.format(height*35)\n",
    "ax = plt.gca()\n",
    "obj = boardPlot(width, height, new_board, fig, ax)\n"
   ]
  }
 ],
 "metadata": {
  "kernelspec": {
   "display_name": "Python 3",
   "language": "python",
   "name": "python3"
  },
  "language_info": {
   "codemirror_mode": {
    "name": "ipython",
    "version": 3
   },
   "file_extension": ".py",
   "mimetype": "text/x-python",
   "name": "python",
   "nbconvert_exporter": "python",
   "pygments_lexer": "ipython3",
   "version": "3.8.2"
  }
 },
 "nbformat": 4,
 "nbformat_minor": 4
}
